{
 "cells": [
  {
   "cell_type": "markdown",
   "metadata": {},
   "source": [
    "### 1. Функция для фильтрации базы данных PDB."
   ]
  },
  {
   "cell_type": "markdown",
   "metadata": {},
   "source": [
    "#### 1. Условия выдачи true на выходе функции: (всегда проверяем model[0])\n",
    "\n",
    "1) присутствует 1 цепочка (chain)\n",
    "\n",
    "2) только $\\alpha$-аминокислоты (везде присутствуют $C_{\\alpha}$)\n",
    "\n",
    "3) вода (HOH) не находится посередине белка\n",
    "\n",
    "4) во всех residue есть все атомы (N, $C_{\\alpha}$, C, атомы радикала - проверяем из json файла)\n",
    "\n",
    "5) нет пропусков аминокислот"
   ]
  },
  {
   "cell_type": "code",
   "execution_count": 1,
   "metadata": {},
   "outputs": [],
   "source": [
    "def check_function(struct):\n",
    "    check_model = list(struct.get_models())[0]\n",
    "    keys_arr = np.array(list(data.keys()))\n",
    "    if len(list(check_model.get_chains())) != 1:\n",
    "        return False\n",
    "    arr_res = np.array([el.get_resname() for el in check_model.get_residues()])\n",
    "    arr_res = arr_res[arr_res != 'HOH']\n",
    "    if arr_res.size < 100:\n",
    "        return False\n",
    "    i = list(check_model.get_residues())[0].get_id()[1]\n",
    "    met_hoh = 0\n",
    "    for name in list(check_model.get_residues()):\n",
    "        if name.get_id()[1]  != i:\n",
    "            return False\n",
    "        i += 1\n",
    "        if not(name.get_resname() in keys_arr):\n",
    "            return False\n",
    "        if name.get_resname() == 'HOH':\n",
    "            met_hoh = 1\n",
    "            continue\n",
    "        if met_hoh == 1:\n",
    "            return False\n",
    "        arr_atoms = [el.get_name() for el in name.get_atoms()]\n",
    "        need_atoms = np.array(data[name.get_resname()]).reshape(-1)\n",
    "        need_atoms = np.append(need_atoms, 'N')\n",
    "        need_atoms = np.append(need_atoms, 'C')\n",
    "        need_atoms = np.append(need_atoms, 'CA')\n",
    "        transformed_arr = np.unique(need_atoms)\n",
    "        diff = np.setdiff1d(transformed_arr, np.array(arr_atoms))\n",
    "        if diff.size != 0:\n",
    "            return False\n",
    "\n",
    "    return True\n",
    "\n"
   ]
  },
  {
   "cell_type": "code",
   "execution_count": null,
   "metadata": {},
   "outputs": [],
   "source": []
  }
 ],
 "metadata": {
  "kernelspec": {
   "display_name": "Python 3",
   "language": "python",
   "name": "python3"
  },
  "language_info": {
   "codemirror_mode": {
    "name": "ipython",
    "version": 3
   },
   "file_extension": ".py",
   "mimetype": "text/x-python",
   "name": "python",
   "nbconvert_exporter": "python",
   "pygments_lexer": "ipython3",
   "version": "3.7.4"
  }
 },
 "nbformat": 4,
 "nbformat_minor": 2
}
