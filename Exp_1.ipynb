{
 "cells": [
  {
   "cell_type": "code",
   "execution_count": 62,
   "metadata": {},
   "outputs": [],
   "source": [
    "import warnings\n",
    "warnings.filterwarnings(\"ignore\")\n",
    "import numpy as np\n",
    "import matplotlib.pyplot as plt\n",
    "import Bio.PDB as pdb\n",
    "from Bio.PDB import calc_angle, calc_dihedral\n",
    "import lightgbm as lgbm\n",
    "from keras.layers import Input, Dense, Flatten, Reshape\n",
    "from keras.models import Model\n",
    "import pandas as pd\n",
    "from sklearn.preprocessing import OneHotEncoder\n",
    "import json\n",
    "from sklearn.metrics import accuracy_score\n"
   ]
  },
  {
   "cell_type": "code",
   "execution_count": 63,
   "metadata": {},
   "outputs": [],
   "source": [
    "from keras import layers\n",
    "from keras import activations\n",
    "from keras.models import load_model\n",
    "import matplotlib.pyplot as plt\n",
    "\n",
    "import seaborn as sns"
   ]
  },
  {
   "cell_type": "code",
   "execution_count": 64,
   "metadata": {},
   "outputs": [],
   "source": [
    "import keras, keras.layers as L, keras.backend as K\n",
    "from keras.utils import to_categorical\n",
    "from keras.layers import Conv2D, BatchNormalization, Dropout, LeakyReLU, Dense, Conv1D, Activation, MaxPooling2D, MaxPooling1D\n",
    "from keras.models import Sequential"
   ]
  },
  {
   "cell_type": "code",
   "execution_count": 65,
   "metadata": {},
   "outputs": [],
   "source": [
    "amino_arr = ['ARG', 'LYS', 'GLN','GLU', 'MET', 'HIS', 'ILE','LEU', 'ASP', 'ASN', 'PHE', 'PRO', 'TRP', 'TYR', 'CYS', 'SER', 'THR', 'VAL']"
   ]
  },
  {
   "cell_type": "code",
   "execution_count": 66,
   "metadata": {},
   "outputs": [],
   "source": [
    "def find_confidence_interval(data, confidence=0.95):\n",
    "    n = data.shape[0]\n",
    "    m = np.mean(data)\n",
    "    std_err = np.std(data)\n",
    "    h = (1 + confidence) * std_err\n",
    "\n",
    "    return [m - h, m + h]"
   ]
  },
  {
   "cell_type": "code",
   "execution_count": 67,
   "metadata": {},
   "outputs": [],
   "source": [
    "def getChiClass(amino, chi_x, angle, bounds):\n",
    "    b = [-180] + bounds[amino][chi_x - 1]\n",
    "    for i in range(len(b) - 1):\n",
    "        if angle > b[i] and angle < b[i + 1]:\n",
    "            return i\n",
    "    return 0"
   ]
  },
  {
   "cell_type": "code",
   "execution_count": 68,
   "metadata": {},
   "outputs": [],
   "source": [
    "def make_model_2d(a, b, num_classes):\n",
    "    model = Sequential()\n",
    "    num_layers = 4\n",
    "    num_filters = 2\n",
    "    \n",
    "    for n in range(num_layers):\n",
    "        if n == 0:\n",
    "            model.add(Conv2D(filters= num_filters ,kernel_size=(4,4), input_shape=(a, b, 1), strides= (1, 1), padding='same'))\n",
    "        else:\n",
    "            model.add(Conv2D(filters= num_filters ,kernel_size=(4, 4), strides= (1, 1), padding='same'))\n",
    "        model.add(BatchNormalization())\n",
    "        model.add(LeakyReLU(alpha=0.2))\n",
    "        num_filters *= 2\n",
    "\n",
    "    model.add(Flatten())    \n",
    "    model.add(Dense(num_classes))\n",
    "    model.add(Activation(\"softmax\"))\n",
    "    return model"
   ]
  },
  {
   "cell_type": "code",
   "execution_count": 69,
   "metadata": {},
   "outputs": [],
   "source": [
    "def make_model_coder(shape, code_size):    \n",
    "    encoder = Sequential()\n",
    "    encoder.add(L.InputLayer(shape))\n",
    "    encoder.add(L.Dense(code_size))\n",
    "\n",
    "    decoder = keras.models.Sequential()\n",
    "    decoder.add(L.InputLayer((code_size,)))\n",
    "    decoder.add(L.Dense(np.prod(shape))) # np.prod for 2d\n",
    "    \n",
    "    return encoder,decoder"
   ]
  },
  {
   "cell_type": "code",
   "execution_count": 70,
   "metadata": {},
   "outputs": [],
   "source": [
    "def make_full_connected(a, num_classes):\n",
    "    model = Sequential()\n",
    "    model.add(Dense(128, input_shape=(a,)))\n",
    "    model.add(layers.Activation(activations.relu))\n",
    "    model.add(Dense(128, input_shape=(a,)))\n",
    "    model.add(layers.Activation(activations.relu))\n",
    "    model.add(Dense(128, input_shape=(a,)))\n",
    "    model.add(layers.Activation(activations.relu))\n",
    "    model.add(Dense(128, input_shape=(a,)))\n",
    "    model.add(layers.Activation(activations.relu))\n",
    "    model.add(Dense(num_classes))\n",
    "    model.add(Activation(\"softmax\"))\n",
    "    return model"
   ]
  },
  {
   "cell_type": "markdown",
   "metadata": {},
   "source": [
    "### 1. Построение доверительных интервалов, составление выборки из значений, входящих в доверительный интервал, сравнение с прошлыми результатами."
   ]
  },
  {
   "cell_type": "code",
   "execution_count": 201,
   "metadata": {},
   "outputs": [],
   "source": [
    "amino = 'THR'"
   ]
  },
  {
   "cell_type": "code",
   "execution_count": 202,
   "metadata": {},
   "outputs": [],
   "source": [
    "train_data = pd.read_csv(amino + '_train_data.csv')\n",
    "train_data = train_data.drop(columns=[\"Unnamed: 0\", \"pbd_indx\"])\n",
    "test_data = pd.read_csv(amino + '_test_data.csv')\n",
    "test_data = test_data.drop(columns=[\"Unnamed: 0\", \"pbd_indx\"])\n",
    "\n",
    "path = 'chi_bounds.json'\n",
    "with open(path, 'r') as f:\n",
    "    bounds = json.loads(f.read())\n",
    "\n",
    "count = 0\n",
    "cols = train_data.columns.tolist()\n",
    "\n",
    "for i in range(len(cols)):\n",
    "    words = cols[i].split('_')\n",
    "    if ('chi' in words):\n",
    "        count += 1\n",
    "\n",
    "for ind in range(count):\n",
    "    train_data['chi_class_'+str(ind+1)] = train_data['chi_'+str(ind+1)].apply(lambda x:getChiClass(amino, ind+1, x, bounds))\n",
    "    test_data['chi_class_'+str(ind+1)] = test_data['chi_'+str(ind+1)].apply(lambda x:getChiClass(amino, ind+1, x, bounds))\n",
    "\n",
    "\n"
   ]
  },
  {
   "cell_type": "code",
   "execution_count": 203,
   "metadata": {},
   "outputs": [],
   "source": [
    "df = train_data[train_data['chi_class_1'] == 0] \n",
    "interval_1 = find_confidence_interval(((df['chi_1']  + 360) % 360).to_numpy())\n",
    "df = train_data[train_data['chi_class_1'] == 1]\n",
    "interval_2 = find_confidence_interval(((df['chi_1']  + 360) % 360).to_numpy())\n",
    "df = train_data[train_data['chi_class_1'] == 2]\n",
    "interval_3 = find_confidence_interval(((df['chi_1']  + 360) % 360).to_numpy())"
   ]
  },
  {
   "cell_type": "code",
   "execution_count": 204,
   "metadata": {},
   "outputs": [],
   "source": [
    "train_data['chi_1'] = (train_data['chi_1'] + 360) % 360\n",
    "\n",
    "tr_1 = train_data[train_data['chi_1'].between(interval_1[0], interval_1[1], inclusive=True)]\n",
    "\n",
    "tr_2 = train_data[train_data['chi_1'].between(interval_2[0], interval_2[1], inclusive=True)]\n",
    "\n",
    "tr_3 = train_data[train_data['chi_1'].between(interval_3[0], interval_3[1], inclusive=True)]\n",
    "\n",
    "data_train = pd.DataFrame(tr_1)\n",
    "\n",
    "data_train = data_train.append(tr_2)\n",
    "\n",
    "data_train = data_train.append(tr_3)"
   ]
  },
  {
   "cell_type": "code",
   "execution_count": 205,
   "metadata": {},
   "outputs": [],
   "source": [
    "test_data['chi_1'] = (test_data['chi_1'] + 360) % 360\n",
    "\n",
    "tr_1 = test_data[test_data['chi_1'].between(interval_1[0], interval_1[1], inclusive=True)]\n",
    "\n",
    "tr_2 = test_data[test_data['chi_1'].between(interval_2[0], interval_2[1], inclusive=True)]\n",
    "\n",
    "tr_3 = test_data[test_data['chi_1'].between(interval_3[0], interval_3[1], inclusive=True)]\n",
    "\n",
    "data_test = pd.DataFrame(tr_1)\n",
    "\n",
    "data_test = data_test.append(tr_2)\n",
    "\n",
    "data_test = data_test.append(tr_3)"
   ]
  },
  {
   "cell_type": "code",
   "execution_count": 206,
   "metadata": {},
   "outputs": [
    {
     "data": {
      "image/png": "[encoded data removed]",
      "text/plain": [
       "<Figure size 720x432 with 1 Axes>"
      ]
     },
     "metadata": {
      "needs_background": "light"
     },
     "output_type": "display_data"
    }
   ],
   "source": [
    "x = train_data['chi_1']\n",
    "plt.figure(figsize=(10, 6))\n",
    "sns.distplot(x, kde=False, bins=100)\n",
    "plt.xlabel('THR train before filter')\n",
    "plt.savefig('exp_1_THR')"
   ]
  },
  {
   "cell_type": "code",
   "execution_count": 207,
   "metadata": {
    "scrolled": false
   },
   "outputs": [
    {
     "data": {
      "text/plain": [
       "Text(0.5, 0, 'THR train after filter')"
      ]
     },
     "execution_count": 207,
     "metadata": {},
     "output_type": "execute_result"
    },
    {
     "data": {
      "image/png": "[encoded data removed]",
      "text/plain": [
       "<Figure size 720x432 with 1 Axes>"
      ]
     },
     "metadata": {
      "needs_background": "light"
     },
     "output_type": "display_data"
    }
   ],
   "source": [
    "x = data_train['chi_1']\n",
    "plt.figure(figsize=(10, 6))\n",
    "sns.distplot(x, kde=False, bins=100)\n",
    "plt.xlabel('THR train after filter')"
   ]
  },
  {
   "cell_type": "code",
   "execution_count": 208,
   "metadata": {},
   "outputs": [
    {
     "data": {
      "text/plain": [
       "Text(0.5, 0, 'THR test after filter')"
      ]
     },
     "execution_count": 208,
     "metadata": {},
     "output_type": "execute_result"
    },
    {
     "data": {
      "image/png": "[encoded data removed]",
      "text/plain": [
       "<Figure size 720x432 with 1 Axes>"
      ]
     },
     "metadata": {
      "needs_background": "light"
     },
     "output_type": "display_data"
    }
   ],
   "source": [
    "x = data_test['chi_1']\n",
    "plt.figure(figsize=(10, 6))\n",
    "sns.distplot(x, kde=False, bins=100)\n",
    "plt.xlabel('THR test after filter')"
   ]
  },
  {
   "cell_type": "code",
   "execution_count": 209,
   "metadata": {},
   "outputs": [],
   "source": [
    "train_data = data_train\n",
    "test_data = data_test"
   ]
  },
  {
   "cell_type": "code",
   "execution_count": 210,
   "metadata": {},
   "outputs": [],
   "source": [
    "\n",
    "chi_columns = [\"chi_1\", \"chi_2\", \"chi_3\", \"chi_4\", \"chi_5\"]\n",
    "chi_col_list = ['chi_class_1', 'chi_class_2', 'chi_class_3', 'chi_class_4', 'chi_class_5']\n",
    "\n",
    "train_data = train_data.drop(columns=chi_columns[:count])\n",
    "test_data = test_data.drop(columns=chi_columns[:count])\n",
    "\n",
    "y_train_list = []\n",
    "y_test_list = []\n",
    "for i in range(count):\n",
    "    y_train_list.append(train_data[chi_col_list[i]])\n",
    "    y_train_list[i] = np.array(y_train_list[i].values.tolist())\n",
    "    y_test_list.append(test_data[chi_col_list[i]])\n",
    "    y_test_list[i] = np.array(y_test_list[i].values.tolist())\n",
    "\n",
    "train_data = train_data.drop(columns=chi_col_list[:count])\n",
    "test_data = test_data.drop(columns=chi_col_list[:count])\n",
    "\n",
    "categorical = list()\n",
    "numeric = list()\n",
    "column_array = list(train_data.columns)\n",
    "for col in column_array:\n",
    "    if type(train_data[col][0]) == str:\n",
    "        categorical.append(col)\n",
    "    else:\n",
    "        numeric.append(col)\n",
    "\n",
    "categorical_train = train_data[categorical]\n",
    "one_hot_encoder = OneHotEncoder()\n",
    "X_train_new = one_hot_encoder.fit_transform(categorical_train)\n",
    "X_train_new = X_train_new.toarray()\n",
    "\n",
    "categorical_test = test_data[categorical]\n",
    "one_hot_encoder = OneHotEncoder()\n",
    "X_test_new = one_hot_encoder.fit_transform(categorical_test)\n",
    "X_test_new = X_test_new.toarray()\n",
    "\n",
    "X_train_new_main = train_data.drop(columns=categorical)\n",
    "X_test_new_main = test_data.drop(columns=categorical)\n",
    "\n",
    "X_train_new_main = np.hstack((X_train_new_main.values, X_train_new))\n",
    "X_test_new_main = np.hstack((X_test_new_main.values, X_test_new))\n",
    "\n",
    "cols = ['True', 'LightGBM', 'CNN', 'AutoEncoder']\n",
    "result_table = pd.DataFrame(columns=cols)\n",
    "\n",
    "\n",
    "y_train = y_train_list[0]\n",
    "y_test = y_test_list[0]\n",
    "\n",
    "num_classes = np.unique(y_train).size\n",
    "\n",
    "result_table['True'] = y_test\n",
    "\n",
    "clf = lgbm.LGBMClassifier(n_estimators=2170, num_leaves = 88, max_depth = 16, min_child_samples = 1358, reg_alpha = 28.532, learning_rate = 0.26461, random_state = 42)\n",
    "clf.fit(X_train_new_main, y_train)\n",
    "predict = clf.predict(X_test_new_main)\n",
    "\n",
    "result_table['LightGBM'] = predict\n",
    "\n"
   ]
  },
  {
   "cell_type": "code",
   "execution_count": 211,
   "metadata": {},
   "outputs": [],
   "source": [
    "test_data = test_data.reset_index()"
   ]
  },
  {
   "cell_type": "code",
   "execution_count": 212,
   "metadata": {},
   "outputs": [
    {
     "data": {
      "text/plain": [
       "0.8385464581416743"
      ]
     },
     "execution_count": 212,
     "metadata": {},
     "output_type": "execute_result"
    }
   ],
   "source": [
    "accuracy_score(y_test, predict)"
   ]
  },
  {
   "cell_type": "code",
   "execution_count": 213,
   "metadata": {},
   "outputs": [],
   "source": [
    "df = pd.read_csv(amino + '_chi_1.csv')"
   ]
  },
  {
   "cell_type": "code",
   "execution_count": 214,
   "metadata": {},
   "outputs": [
    {
     "data": {
      "text/plain": [
       "0.8191935250758781"
      ]
     },
     "execution_count": 214,
     "metadata": {},
     "output_type": "execute_result"
    }
   ],
   "source": [
    "accuracy_score(df['True'], df['LightGBM'])"
   ]
  },
  {
   "cell_type": "code",
   "execution_count": 215,
   "metadata": {},
   "outputs": [
    {
     "data": {
      "text/plain": [
       "Text(0.5, 0, 'THR wrong predictions for LightGBM')"
      ]
     },
     "execution_count": 215,
     "metadata": {},
     "output_type": "execute_result"
    },
    {
     "data": {
      "image/png": "[encoded data removed]",
      "text/plain": [
       "<Figure size 720x432 with 1 Axes>"
      ]
     },
     "metadata": {
      "needs_background": "light"
     },
     "output_type": "display_data"
    }
   ],
   "source": [
    "x = (data_test.loc[predict != y_test]['chi_1'] + 360) % 360\n",
    "plt.figure(figsize=(10, 6))\n",
    "sns.distplot(x, kde=False, bins=100)\n",
    "plt.xlabel('THR wrong predictions for LightGBM')"
   ]
  },
  {
   "cell_type": "code",
   "execution_count": null,
   "metadata": {},
   "outputs": [],
   "source": []
  }
 ],
 "metadata": {
  "kernelspec": {
   "display_name": "Python 3",
   "language": "python",
   "name": "python3"
  },
  "language_info": {
   "codemirror_mode": {
    "name": "ipython",
    "version": 3
   },
   "file_extension": ".py",
   "mimetype": "text/x-python",
   "name": "python",
   "nbconvert_exporter": "python",
   "pygments_lexer": "ipython3",
   "version": "3.7.4"
  }
 },
 "nbformat": 4,
 "nbformat_minor": 2
}
